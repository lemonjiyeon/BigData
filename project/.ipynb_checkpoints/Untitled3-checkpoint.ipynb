{
 "cells": [
  {
   "cell_type": "code",
   "execution_count": null,
   "id": "d4ef3c3f-2235-43af-8046-3097bb1493a2",
   "metadata": {},
   "outputs": [],
   "source": [
    "수진 ~"
   ]
  }
 ],
 "metadata": {
  "kernelspec": {
   "display_name": "Python 3",
   "language": "python",
   "name": "python3"
  },
  "language_info": {
   "codemirror_mode": {
    "name": "ipython",
    "version": 3
   },
   "file_extension": ".py",
   "mimetype": "text/x-python",
   "name": "python",
   "nbconvert_exporter": "python",
   "pygments_lexer": "ipython3",
   "version": "3.8.8"
  }
 },
 "nbformat": 4,
 "nbformat_minor": 5
}
