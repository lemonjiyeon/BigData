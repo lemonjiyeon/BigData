{
 "cells": [
  {
   "cell_type": "code",
   "execution_count": 1,
   "id": "4985ede6-b828-46b5-897d-4c015ce20c1e",
   "metadata": {},
   "outputs": [],
   "source": [
    "import cv2\n",
    "import os\n",
    "import numpy as np"
   ]
  },
  {
   "cell_type": "code",
   "execution_count": null,
   "id": "4da2d458-d0af-49a6-b326-5ca563dc128c",
   "metadata": {},
   "outputs": [],
   "source": [
    "path = \"C:/python_work/project/data\"\n",
    "\n",
    "file_list = os.listdir(path)\n",
    "\n",
    "for i in file_list:\n",
    "    img = cv2.imread(path + '//' + k)\n",
    "    width, height = img.shape[:2] \n",
    "    resize_img = cv2.resize(img, (416, 416), interpolation=cv2.INTER_CUBIC)\n",
    "    cv2.imwrite('C:/python_work/project/data_resize//' + k, resize_img)\n",
    "\n",
    "    "
   ]
  }
 ],
 "metadata": {
  "kernelspec": {
   "display_name": "Python 3",
   "language": "python",
   "name": "python3"
  },
  "language_info": {
   "codemirror_mode": {
    "name": "ipython",
    "version": 3
   },
   "file_extension": ".py",
   "mimetype": "text/x-python",
   "name": "python",
   "nbconvert_exporter": "python",
   "pygments_lexer": "ipython3",
   "version": "3.8.8"
  }
 },
 "nbformat": 4,
 "nbformat_minor": 5
}
