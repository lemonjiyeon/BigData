{
 "cells": [
  {
   "cell_type": "code",
   "execution_count": null,
   "id": "34a38280-e487-4795-8478-4d32dc8f4a6b",
   "metadata": {},
   "outputs": [],
   "source": [
    "kkj_test"
   ]
  }
 ],
 "metadata": {
  "kernelspec": {
   "display_name": "Python 3",
   "language": "python",
   "name": "python3"
  },
  "language_info": {
   "codemirror_mode": {
    "name": "ipython",
    "version": 3
   },
   "file_extension": ".py",
   "mimetype": "text/x-python",
   "name": "python",
   "nbconvert_exporter": "python",
   "pygments_lexer": "ipython3",
   "version": "3.8.8"
  }
 },
 "nbformat": 4,
 "nbformat_minor": 5
}
