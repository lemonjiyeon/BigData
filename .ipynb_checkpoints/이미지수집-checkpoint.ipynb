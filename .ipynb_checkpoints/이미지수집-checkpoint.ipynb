{
 "cells": [
  {
   "cell_type": "code",
   "execution_count": 1,
   "id": "73943e38-49d6-4f9c-bfc0-b9e6a102eecb",
   "metadata": {},
   "outputs": [],
   "source": [
    "#사이트 접속 -> 키워드 검색\n",
    "from selenium import webdriver\n",
    "from selenium.webdriver.common.keys import Keys\n",
    "import time\n",
    "from tqdm import tqdm"
   ]
  },
  {
   "cell_type": "code",
   "execution_count": 2,
   "id": "f68f1d42-475f-4ced-b16e-f5a108345c62",
   "metadata": {},
   "outputs": [],
   "source": [
    "keyword = '다금바리'"
   ]
  },
  {
   "cell_type": "code",
   "execution_count": 27,
   "id": "ff72e2d3-9279-4efd-bf5d-ff9c53c6cc6c",
   "metadata": {},
   "outputs": [
    {
     "name": "stdout",
     "output_type": "stream",
     "text": [
      "Loading...\n"
     ]
    },
    {
     "name": "stderr",
     "output_type": "stream",
     "text": [
      "C:\\Users\\Public\\Documents\\ESTsoft\\CreatorTemp/ipykernel_18304/3685721144.py:3: DeprecationWarning: executable_path has been deprecated, please pass in a Service object\n",
      "  driver = webdriver.Chrome('C:/chromedriver_win32/chromedriver.exe')\n",
      "C:\\Users\\Public\\Documents\\ESTsoft\\CreatorTemp/ipykernel_18304/3685721144.py:11: DeprecationWarning: find_element_by_* commands are deprecated. Please use find_element() instead\n",
      "  body = driver.find_element_by_css_selector('body')\n"
     ]
    }
   ],
   "source": [
    "# 1. 웹 접속 - 네이버 이미지 접속\n",
    "print('Loading...')\n",
    "driver = webdriver.Chrome('C:/chromedriver_win32/chromedriver.exe')\n",
    "driver.implicitly_wait(30)\n",
    "\n",
    "url = 'https://search.naver.com/search.naver?where=image&sm=tab_jum&query={}'.format(keyword)\n",
    "driver.get(url)\n",
    "\n",
    "# 1.5 페이지 스크롤 다운 - 페이지를 스크롤 하여 더 많은 사진을 수집한다.\n",
    "# -> 1초에 한번씩 10번 반복하여 페이지 다운 스크롤을 한다.\n",
    "body = driver.find_element_by_css_selector('body')\n",
    "for i in range(50):\n",
    "    body.send_keys(Keys.PAGE_DOWN)\n",
    "    time.sleep(1)"
   ]
  },
  {
   "cell_type": "code",
   "execution_count": 28,
   "id": "e6cebce0-aaff-4fc4-98cc-38b941652528",
   "metadata": {
    "tags": []
   },
   "outputs": [
    {
     "name": "stderr",
     "output_type": "stream",
     "text": [
      "C:\\Users\\Public\\Documents\\ESTsoft\\CreatorTemp/ipykernel_18304/1228471836.py:2: DeprecationWarning: find_elements_by_* commands are deprecated. Please use find_elements() instead\n",
      "  imgs = driver.find_elements_by_css_selector('img._image')\n"
     ]
    },
    {
     "name": "stdout",
     "output_type": "stream",
     "text": [
      "['https://search.pstatic.net/common/?src=http%3A%2F%2Fblogfiles.naver.net%2FMjAyMTExMDRfMjIy%2FMDAxNjM2MDM3NzM1NjA2.rA45puhaR42vggCMK1kHkPgKWK2XyAx-ydcvEz3RV5Mg.xefnGXoeKb5p6MOiu8tdkNe_kobDXvKnEGS0lNvJgnMg.JPEG.h_n_p%2F6yht_%25284%2529.jpg&type=a340', 'https://search.pstatic.net/common/?src=http%3A%2F%2Fblogfiles.naver.net%2FMjAyMTAxMTlfNzEg%2FMDAxNjExMDQ2NTgyNjc0.V4rlgFW_Q4QvpDkOcQQX-7n-sy_qeyRO9578aXC6yrQg.t2XXCEo2I_diWmf8lnxbHEe1zoenajPZ8WDwVk_knYgg.JPEG.wooowfd%2FIMG_9765.jpg&type=a340', 'https://search.pstatic.net/common/?src=http%3A%2F%2Fblogfiles.naver.net%2FMjAyMDAxMTFfMTIx%2FMDAxNTc4NzIwODI1MTAz.S4TrYaqI0S8-_kFlstjUs4wHMOwVm_WZp-aNlT061fsg.U4-NPyYTLRIgkdsZL1HDnUmumd1QNQhzwHoQtBG2pq4g.JPEG.sujinoh48%2F1578720824419.jpg&type=a340', 'https://search.pstatic.net/common/?src=http%3A%2F%2Fblogfiles.naver.net%2FMjAyMTAxMjZfMjgg%2FMDAxNjExNjExNDgzOTE1.NkvVvqIzVckAW0UVOx-z50OUUhLr4JZOUh7-4--jfU8g.4ENO_6yF1pK_JUV_kSJwB_iSit1nHky6lWMKl9PJc6sg.JPEG.fromunder%2F20210114%25A3%25DF152739.jpg&type=a340', 'https://search.pstatic.net/common/?src=http%3A%2F%2Fblogfiles.naver.net%2FMjAyMTExMjRfMjQz%2FMDAxNjM3NzQyNjQxMDUy.AhHkoeMbBf20OklHJe2uwfCB_D7l7tyCHdqIJEVxOicg.8kvWF9onT1MpLu-VFT9RsnXeHUdRNiP5wLb29g_LefAg.JPEG.redhude%2F1637742221553.jpg&type=a340', 'https://search.pstatic.net/common/?src=http%3A%2F%2Fblogfiles.naver.net%2FMjAyMTA5MjFfMjIz%2FMDAxNjMyMjI5NTY0Nzcy.Lp9EjHy6FiwEdp46KjOZ5ZBpTkiqbXxeUlPN6S_iwWAg.V6jRSw4aH2Tie7SGB0rbjrgl--kf-O4Q66ktwFUOtoAg.JPEG.jinpark1118%2F20210921_172350.jpg&type=ofullfill340_600', 'https://search.pstatic.net/common/?src=http%3A%2F%2Fimgnews.naver.net%2Fimage%2F5267%2F2021%2F11%2F05%2F0000208716_001_20211105121801834.jpg&type=a340', 'https://search.pstatic.net/common/?src=http%3A%2F%2Fblogfiles.naver.net%2FMjAyMDEwMjdfMjY3%2FMDAxNjAzNzU5MjMzNjEw.rHfBOeysVBUAxW2twvqr0lkx5Nvpy7Op1WlalNtu7dog.vnDWZVo_FtCnqjhl4Bh92PxobnpIaCt4gBTdh0ZSPugg.JPEG.honsull%2F%25BF%25CF%25BC%25BA_04.jpg&type=a340', 'https://search.pstatic.net/common/?src=http%3A%2F%2Fblogfiles.naver.net%2FMjAyMTAzMTNfNTEg%2FMDAxNjE1NTk5OTIxNDQ2.qr0Be2eXNoC3Ksu5D65z2QaCzDqCuqCs2DZ9oGWtZtQg.SEOjDKedU8Dn-RGzEWfhUkt3-0mJKFXCLeW3VjRqG7kg.JPEG.wooowfd%2FIMG_0086.jpg&type=a340', 'https://search.pstatic.net/common/?src=http%3A%2F%2Fcafefiles.naver.net%2F20110708_11%2Fajs14014_13100952594081NJXJ_jpg%2Fsdc14401_ajs14014.jpg&type=a340', 'https://search.pstatic.net/common/?src=http%3A%2F%2Fblogfiles.naver.net%2FMjAxOTEyMDFfMjcy%2FMDAxNTc1MjEyMjI3MDg5.a7B560MpT8JHSSWXjGuKk8nsQE22QlFd8oBlWkM7RIwg.UudDLGiYtZw_UlUK3tdEJ-rRrKzNSjQgg7mCzldrDEog.JPEG.phy1017%2F1572192208873.JPG&type=a340', 'https://search.pstatic.net/common/?src=http%3A%2F%2Fcafefiles.naver.net%2FMjAyMDA1MDJfMTEz%2FMDAxNTg4MzgwMjc4MzE2.8kEwYu1J8Xs7OkvJ2AJHxABb1TRVitCmNmt_U1uWjdEg.yQkUcYim_YcH68FRGdGfK9reeklCIti_ATRgMwP1TVUg.JPEG%2F20200421_160333.jpg&type=a340', 'https://search.pstatic.net/common/?src=http%3A%2F%2Fblogfiles.naver.net%2F20100619_84%2Fhjmin1002_1276914422731vWPcg_jpg%2F%25B4%25D9%25B1%25DD%25B9%25D9%25B8%25AE_%25B1%25B8%25B9%25AE%25C0%25EF%25C0%25CC_%25BA%25F1%25B1%25B3_hjmin1002.jpg&type=a340', 'https://search.pstatic.net/common/?src=http%3A%2F%2Fblogfiles.naver.net%2FMjAyMTEwMDJfMjgg%2FMDAxNjMzMTUwNDEwMzE2.oc4LJ953cnXiTQEhioYAdShiDqkXCr9VITRB5wmWceYg.06FWtxloJqWKLulB23duDkm8pl_4O7L9c1grOXnVNoEg.JPEG.ghostfishing%2F1630913881818-0.jpg&type=a340', 'https://search.pstatic.net/common/?src=http%3A%2F%2Fblogfiles.naver.net%2FMjAyMTAyMDJfMjU2%2FMDAxNjEyMjYyNTE5NzI3.HECntLkmv0uJlNxn_9K4jjytD5xDRsl1ro8QXvLU5ksg.aybcGOHHI69k1XgY1DIrgPDj6oFOJYzCMJ9NXT7XFo0g.JPEG.kangbyul8707%2F37.jpg&type=a340', 'https://search.pstatic.net/common/?src=http%3A%2F%2Fblogfiles.naver.net%2FMjAyMTA4MTNfMTM3%2FMDAxNjI4ODY1MDYyNjc0.U6e469O7gvJD7nA-VfiNInLovuJl7i9k-4wqO1jOs1wg.CWDZln4tzGuYyx9opSaezQ98OfoF5B_VGfXGb7jcyGkg.JPEG.yeonhee6781%2F1628864553009.jpg&type=a340', 'https://search.pstatic.net/common/?src=http%3A%2F%2Fblogfiles.naver.net%2FMjAxODEwMTFfMTY5%2FMDAxNTM5MjY1OTMzODc3.CR-VGVo71W_eMV-1IlW2Ajho2KfEKflVWmR6DhujUdMg._80uqagoOsWwuLCRntosUOKctB4_KFdZl8FKoZMfdaAg.JPEG.kangnam05%2F20181007_211533.jpg&type=a340', 'https://search.pstatic.net/common/?src=http%3A%2F%2Fblogfiles.naver.net%2Fdata28%2F2007%2F11%2F6%2F202%2Fnpe29_style2off7.jpg&type=a340', 'https://search.pstatic.net/common/?src=http%3A%2F%2Fcafefiles.naver.net%2FMjAyMDA2MjNfMTc3%2FMDAxNTkyODcxNDY0NzE4.9FAZIwsx-FI3efmcyVDbJ74IaykeAJH7LhloTEW5SMcg.Aw6ooPLn2-tQmm3zAr0ykm63QD0PRdhn9e0VcpBfeYsg.JPEG%2FexternalFile.jpg&type=ofullfill340_600', 'https://search.pstatic.net/common/?src=http%3A%2F%2Fblogfiles.naver.net%2FMjAyMTEwMjJfMTU5%2FMDAxNjM0ODg5MTAwODk3.1PbF12ctGdh-4K9UceU9kXivrUakONTDndsBTqERejgg.M4hGBO77v4b9HR5m6X7E471sBQ9h6oMlv05bRnvHEuEg.JPEG.ghostfishing%2FKakaoTalk_20211022_162702528_03.jpg&type=a340', 'https://search.pstatic.net/common/?src=http%3A%2F%2Fblogfiles.naver.net%2F20151010_5%2Fslds2_1444460922229PaVFM_JPEG%2F%25B0%25A1%25C2%25A5%25B4%25D9%25B1%25DD%25B9%25D9%25B8%25AE16.jpg&type=l340_165', 'https://search.pstatic.net/common/?src=http%3A%2F%2Fblogfiles.naver.net%2F20141102_70%2Fbleu1690_1414886157688UyqLa_JPEG%2F1.JPG&type=a340', 'https://search.pstatic.net/common/?src=http%3A%2F%2Fcafefiles.naver.net%2F20090808_253%2Fgog1569_1249741480355yiG0P_jpg%2F200988-1_gog1569.jpg&type=a340', 'https://search.pstatic.net/common/?src=http%3A%2F%2Fimgnews.naver.net%2Fimage%2F5378%2F2020%2F06%2F18%2F0000003874_004_20200618134654327.jpg&type=l340_165', 'https://search.pstatic.net/common/?src=http%3A%2F%2Fblogfiles.naver.net%2FMjAyMDA1MjRfMjEy%2FMDAxNTkwMzEwNjg1NTkw.6IyLbvt0Hr9jvafq1g6bqvi-lKKvVKwKgLt_q_Ljx3og.tRnCzEcMKDg0GpKnNt4CT41w67AOXeXttN6z090wRbQg.JPEG.slds2%2F004_%25B4%25C9%25BC%25BA%25BE%25EE%2528%25C1%25A6%25C1%25D6_%25B9%25E6%25BE%25F0_%25B1%25B8%25B9%25AE%25C0%25EF%25C0%25CC%2529.JPG&type=a340', 'https://search.pstatic.net/common/?src=http%3A%2F%2Fblogfiles.naver.net%2FMjAxNzAxMTNfNDMg%2FMDAxNDg0MjY3MDYxOTEz.YQQ6I933dLTbwd-TD96L36m9fPxBXwfpAu1WqaWfb0sg.FKfrAL2lxL_TO-OGOy7sOG_s9Z-2Qu4hCXiJ9GS-Prog.JPEG.iguerilla%2F%25C1%25A6%25B8%25F1ds_%25BE%25F8%25C0%25BD.jpg&type=a340', 'https://search.pstatic.net/common/?src=http%3A%2F%2Fcafefiles.naver.net%2F20130704_127%2Fmilis01_1372894702879qAU9L_JPEG%2F%25BB%25E7%25C1%25F8_001.jpg&type=a340', 'https://search.pstatic.net/common/?src=http%3A%2F%2Fblogfiles.naver.net%2FMjAyMDA2MTJfMTA5%2FMDAxNTkxOTUxMDU3MTI3.NIHM0x1J-AWu5FS4staBu4YAdrhIh3cYtDagllJSEpcg.vp_KKMoNhntTQXHODIcqCrKCq7Q68Hf0MkozY4Ee5Jsg.JPEG.shjhmom0812%2FKakaoTalk_20200608_170222980.jpg&type=l340_165', 'https://search.pstatic.net/common/?src=http%3A%2F%2Fblogfiles.naver.net%2FMjAxNzA1MjNfMTU0%2FMDAxNDk1NTQxMTQ3NzI2.aBHgQlfrqw1RWhERNsOeJsQ1_pffrk1AervrsZuC4F0g.SvgOgajQJ1z6gSMM6EQjcpQfmjYBFZWZyqqxsJLisPEg.JPEG.ccwbros%2Fccw_1920170522.JPG&type=a340', 'https://search.pstatic.net/common/?src=http%3A%2F%2Fcafefiles.naver.net%2F20130912_108%2Fspider0829_1378985116116aLuvB_JPEG%2FSAM_0599.JPG&type=a340', 'https://search.pstatic.net/common/?src=http%3A%2F%2Fblogfiles.naver.net%2F20160928_148%2Fdaplego_1474988535222xlYtr_JPEG%2F20160925_231510.jpg&type=a340', 'https://search.pstatic.net/common/?src=http%3A%2F%2Fblogfiles.naver.net%2FMjAxNjExMDdfMjM5%2FMDAxNDc4NDQ2MTg3ODgx.N858zvRONCL8pGkCjOCXHpA5LijIoMHY95yciVE2XOEg.1k-56eg6_oGuioHDGDCGM_cWSXiBDNfHX-nhiLg6mw0g.JPEG.armyofking%2FIMG_5563.JPG&type=a340', 'https://search.pstatic.net/common/?src=http%3A%2F%2Fblogfiles.naver.net%2FMjAyMTAzMDlfMTI3%2FMDAxNjE1MjU5NzMyODc0.-vMOcWQz-1vftFRugI0zKrinVF7PO-33tT7Bbq15dY8g.NfhOnioI4RAU_RWLUtPth9CGUt1saPoqNWbc50fkvF8g.JPEG.yamjiandbob%2Foutput_2521486464.jpg&type=a340', 'https://search.pstatic.net/common/?src=http%3A%2F%2Fblogfiles.naver.net%2FMjAyMDExMTZfMjI2%2FMDAxNjA1NTMzNjc5MTY3.6W54gfueiAAAuDfx78m_mizIGBFppVG72mTQVWzyDH4g.ihHQmvWjizhHyiO38cF7xhAeo696Fd9ub_kq-YhW0mUg.JPEG.082paris%2FNaverBlog_20201116_223434_05.jpg&type=a340', 'https://search.pstatic.net/common/?src=http%3A%2F%2Fblogfiles.naver.net%2FMjAxOTA4MDlfMjAx%2FMDAxNTY1Mjc5MTYwMDIy.EQDK5FL19cf3WC0f2PHVT3-c4WsmKR-Jpz_A9ivQQK4g.HTfAMH-F4DpIHyKFyHzmrjBO9-HCVDQaH65uAz4nvdEg.JPEG.gy57927%2FIMG_9863.JPG&type=a340', 'https://search.pstatic.net/common/?src=http%3A%2F%2Fcafefiles.naver.net%2FMjAxNzEyMThfMjQ4%2FMDAxNTEzNTU2Mjg3NDYz.BFvBFkdSOpM81MCf6XFCbO_XW_JZisu2Gky0HYwMi4gg.rz54N9ZfYuKE7pmFtRbZEf3EDIPfrFx6Peycs6WDygIg.JPEG.pjikibn%2F20161013_091352_resized.jpg&type=a340', 'https://search.pstatic.net/common/?src=http%3A%2F%2Fblogfiles.naver.net%2FMjAyMDEwMTNfMTI0%2FMDAxNjAyNTcwMTQ0ODY2.yUHDnbIm8-MSUxrx5OUGrD6SiWJb69zLeVw56hB0cBUg.Pac3P32FNiC29yU5ppyMtKP8qsgEcvLDudUL_7Y3S_cg.JPEG.hereyujin%2F1602570143707.jpg&type=a340', 'https://search.pstatic.net/common/?src=http%3A%2F%2Fblogfiles.naver.net%2FMjAyMDAzMjVfMTA3%2FMDAxNTg1MTIzNzUxNjA0.YPgVZPQKsTcT42TX-GO4ZDJofqg2UIfvmBfB0wq0SyMg.A2bUevyUfMqWDj9719tjt7SHrRtB-wVqGY5Im-1wZyMg.JPEG.rohati%2F%25C1%25F805.JPG&type=a340', 'https://search.pstatic.net/common/?src=http%3A%2F%2Fblogfiles.naver.net%2FMjAxOTA5MjJfMjQ3%2FMDAxNTY5MTM0MjIxNDc0.uDMqa2N81cDQtConVSxt1c3wvISUAIxKtmLjE6Ct_tAg.e8W3wB-UNTdwIm3-JmWrLDmo33QJe7lNKcpWJZ-2_c0g.JPEG.namhaimrkim%2F20190921_165239.jpg&type=l340_165', 'https://search.pstatic.net/common/?src=http%3A%2F%2Fimage.nmv.naver.net%2Fblog_2021_12_13_2551%2F0424125d-5b65-11ec-82c9-505dac8c35ff_01.jpg&type=ofullfill340_600', 'https://search.pstatic.net/common/?src=http%3A%2F%2Fblogfiles.naver.net%2FMjAyMTA5MTBfMTQ0%2FMDAxNjMxMjYwODY5MjMw.vOlEWm5KSAutYqTxsJ03QGkOwc0ewx-81C7g-8rzsx8g.ohSKfAtiMpZcGR-zmKflH0jznKSrCGdFHCJEi0VWn6Ug.JPEG.armyofking%2Fbatch_KakaoTalk_20210910_165338543_01.jpg&type=a340', 'https://search.pstatic.net/common/?src=http%3A%2F%2Fblogfiles.naver.net%2FMjAxODEyMDRfNTgg%2FMDAxNTQzODkyMjg3NjE4.GR3cdKmSUDFsuuGV0avDeTIpBOVlY53OkeehHwvQjHgg.ohba1-kEILDq-YNojP4rTfZl9Gg1vhES4HMTxvNxxzsg.JPEG.armyofking%2FKakaoTalk_20181204_114834061.jpg&type=a340', 'https://search.pstatic.net/common/?src=http%3A%2F%2Fblogfiles.naver.net%2F20141116_293%2Fbleu1690_1416148553796LU90M_JPEG%2F22.jpg&type=a340', 'https://search.pstatic.net/common/?src=http%3A%2F%2Fblogfiles.naver.net%2Fdata29%2F2007%2F12%2F27%2F154%2Fresult_2007_11_4_17_42_59_748_7-gukjung.jpg&type=a340', 'https://search.pstatic.net/common/?src=http%3A%2F%2Fblogfiles.naver.net%2F20101108_107%2Fchrkdfur76_1289143728187F8Lqe_jpg%2Fdsc06404_chrkdfur76.jpg&type=a340', 'https://search.pstatic.net/common/?src=http%3A%2F%2Fblogfiles.naver.net%2F20160504_251%2Fyebisu77_1462350144190gKBqh_JPEG%2FBBsCEQI.jpg&type=a340', 'https://search.pstatic.net/common/?src=http%3A%2F%2Fblogfiles.naver.net%2FMjAxOTA2MjBfMjY2%2FMDAxNTYxMDQyMTk4MzA5.xNu9v2DYK5KK4PCYIjHmIe7bAblYEbowObWrEqB-tMMg.cDsOaeNSpsyGTnJcRXA8yC5qvUTRb73GLMAOzL4UJvgg.JPEG.kyhgo27%2F111.jpg&type=a340', 'https://search.pstatic.net/common/?src=http%3A%2F%2Fblogfiles.naver.net%2F20160825_106%2Fjil6148_1472124674583ikohu_JPEG%2F1472112334660.jpeg&type=a340', 'https://search.pstatic.net/common/?src=http%3A%2F%2Fblogfiles.naver.net%2F20130426_132%2Fbabiana_she_1366962146086bDvTt_JPEG%2F201304231326533_2XYNX48N.jpg&type=ofullfill340_600', 'https://search.pstatic.net/common/?src=http%3A%2F%2Fcafefiles.naver.net%2FMjAyMDA0MTJfMjQ1%2FMDAxNTg2NjU3MTk4MjIx.8oAlNYoGoAhESJeCK2WR75fdBxD2wJvgandgPYU3NfUg.591I88Rh_7BZ9-JPHQ9frj7YbJEQ5KCwGknVBAM-EzYg.JPEG%2FexternalFile.jpg&type=ofullfill340_600', 'https://search.pstatic.net/common/?src=http%3A%2F%2Fblogfiles.naver.net%2F20160210_2%2Fooo5513_1455084851009Xenrq_JPEG%2F20151203_203355_1.jpg&type=a340', 'https://search.pstatic.net/common/?src=http%3A%2F%2Fblogfiles.naver.net%2FMjAxNzA5MjZfMTc1%2FMDAxNTA2Mzg5OTk1NjQx.E-tXAdSPt4oEkityIkJByvCIhfFUGM97_FRGSW_hlBMg.m_IwFgiQF4YoOV9DYRAd-pKMNFc8zUgUN-WKEcTE_zcg.JPEG.armyofking%2FKakaoTalk_20170924_094958046.jpg&type=a340', 'https://search.pstatic.net/common/?src=http%3A%2F%2Fcafefiles.naver.net%2F20130920_172%2Fspider0829_1379683764744ghKjE_JPEG%2FSAM_0910.JPG&type=a340', 'https://search.pstatic.net/common/?src=http%3A%2F%2Fcafefiles.naver.net%2F20120831_166%2Fkensin7979_1346341864590Ee7xE_JPEG%2FIMG_1635.JPG&type=a340', 'https://search.pstatic.net/common/?src=http%3A%2F%2Fcafefiles.naver.net%2F20150227_95%2Fbeepergirl_1424980029842ite6q_JPEG%2F740_1424979119840.jpeg&type=l340_165', 'https://search.pstatic.net/common/?src=http%3A%2F%2Fblogfiles.naver.net%2FMjAxODEyMjFfNzcg%2FMDAxNTQ1MzY4MDAzOTU5.2Ki3fYAad6jMw9N576p1VVphOadGfEGC7zgdaz23gycg.zcCGFnm9P4uTYeTcan6cJ1LUh_kOhsOgz-u8XbGKpYUg.JPEG.han4869%2FDSC07585.jpg&type=a340', 'https://search.pstatic.net/common/?src=http%3A%2F%2Fblogfiles.naver.net%2F20160824_130%2Flutenist1_1472037109928fQack_JPEG%2F20160821_163702.jpg&type=l340_165', 'https://search.pstatic.net/common/?src=http%3A%2F%2Fblogfiles.naver.net%2FMjAxODExMDRfMzUg%2FMDAxNTQxMzI0MzkyNjE4.PlWqol3lsuNfsaJSU0MYuiCAk3DS0hRZxmLTW6_GOrsg.5UXcdy6WJOBthCyAnrie20HBtmDcCf0OVaN2goAm5eYg.JPEG.miraluz1%2F20181008_172253.jpg&type=a340', 'https://search.pstatic.net/common/?src=http%3A%2F%2Fcafefiles.naver.net%2F20160619_87%2Fppmint99_14663011306949DzwN_JPEG%2FNa1466301107685.jpg&type=ofullfill340_600', 'https://search.pstatic.net/common/?src=http%3A%2F%2Fblogfiles.naver.net%2FMjAyMTA5MjNfMTY0%2FMDAxNjMyMzc4MTk4OTY5.TQpI_cCZEN4Y4Hn4Q_dwjRfmG7Np74bMzvv_WItvPtYg.16Q5Wh_lMWBzbpoYAUju-xyijl2jSYcW65zn3FuYfLEg.JPEG.armyofking%2Fbatch_KakaoTalk_20210923_140716355_07.jpg&type=a340', 'https://search.pstatic.net/common/?src=http%3A%2F%2Fblogfiles.naver.net%2F20150702_158%2Fpongpongsoda_1435842835312xmcke_JPEG%2F%25B4%25D9%25B1%25DD%25B9%25D9%25B8%25AE_%25B4%25C9%25BC%25BA%25BE%25EE_%25C2%25F7%25C0%25CC%25C1%25A1.jpg&type=a340', 'https://search.pstatic.net/common/?src=http%3A%2F%2Fblogfiles.naver.net%2FMjAxODAzMDFfNzgg%2FMDAxNTE5ODk1MTkwNjU2.qhj844hK1xoXOClQS688NjZ1Z9teGB-mfHBBr8uT_0Ug.JWAG6cL-JPKW4HUm8XrTj6DUQ1mdL9Y3Lm2gy-vRQyIg.JPEG.jeun5393%2FMyPhoto_1184926038_0141.jpg&type=l340_165', 'https://search.pstatic.net/common/?src=http%3A%2F%2Fcafefiles.naver.net%2F20150227_107%2Fbeepergirl_1424980026545jiQHR_JPEG%2F1424691601321.jpeg&type=a340', 'https://search.pstatic.net/common/?src=http%3A%2F%2Fblogfiles.naver.net%2FMjAxNjExMDZfMTgx%2FMDAxNDc4NDM2MDc4ODcx.n0kiUdbRZP6soOg_pefDI6xncIdthcMm2yhOA94J0X4g.e4aCjv2Xa3c8N2B8K7BL2cngmylUqWoa17MsDjDHV_Qg.JPEG.bae4216%2Fimage.jpg&type=a340', 'https://search.pstatic.net/common/?src=http%3A%2F%2Fblogfiles.naver.net%2FMjAyMTA2MDhfMTcw%2FMDAxNjIzMTQzMzI1NjMz.yljKh81EtGdvPgqlJnPhq4zU85WcWOWKCDzAuC68fPAg.V4d0Pc8qTsVh79Vc0XoZ_AQdZumZp6l0AJsmlfsAXcYg.JPEG.armyofking%2Fbatch_KakaoTalk_20210608_174225766_03.jpg&type=a340', 'https://search.pstatic.net/common/?src=http%3A%2F%2Fblogfiles.naver.net%2FMjAxNzAzMDZfMTEg%2FMDAxNDg4Nzc5MzYxNjk3.d_lZIKI9RGQEI8dVymJNRliSkzk_wHBFtsw9WLBlC_kg.0-sLzP9hKqZ5MauxVbLeGzO1gXTP8ogRXI-5RV_GchIg.JPEG.wsdmr%2FIMG_1022.jpg&type=a340', 'https://search.pstatic.net/common/?src=http%3A%2F%2Fblogfiles.naver.net%2FMjAyMDAyMDhfOTQg%2FMDAxNTgxMDk1ODk3NDQ3.gywN67qPatJcNobApkkPD2emeCptFx9pKurH_UvcImIg.EuXXHbl4DO4RyZjoIr9fCC7MZQeQoytifvJQyGkp-6Mg.JPEG.taegeuni%2F1581095898361.jpg&type=a340', 'https://search.pstatic.net/common/?src=http%3A%2F%2Fblogfiles.naver.net%2FMjAxODExMTBfNjkg%2FMDAxNTQxODQzNzk3OTU4.xmwSY2t2RNNQyoRAUIes2CJachrq06tol7JPpLDjvN4g.z7Jjt0GVBsAlCYgdnh0J_ChnU47CWmd90CGfqzfOz6kg.JPEG.spider69w%2F1541842744239.jpg&type=a340', 'https://search.pstatic.net/common/?src=http%3A%2F%2Fcafefiles.naver.net%2F20160921_17%2Fjeonhakgyun_14744218092550DkvS_JPEG%2F20160918_125616.jpg&type=a340', 'https://search.pstatic.net/common/?src=http%3A%2F%2Fblogfiles.naver.net%2FMjAxOTAyMDNfMTEw%2FMDAxNTQ5MTY4MDk0Mjc3.aN_-yqWWbJw5xZGAmTn4rzpj9IXnTMh99NqeIRZiHHkg.v9nU373SlkdOJDWlD8SMTeUmH3NTv1DAPokklzqHUG8g.JPEG.ahnku02%2F20190202_153344.jpg&type=l340_165', 'https://search.pstatic.net/common/?src=http%3A%2F%2Fblogfiles.naver.net%2FMjAxNzA2MjBfMTAx%2FMDAxNDk3OTQ1NDYzNTk3.nr_NsZZLzNhuBABowuelY_7891RPY27-IwcTiLHXgfQg._8DtYebfFlBaIyd2IQzu4ldJg_0ROpGlQTAez9s-itIg.JPEG.saebyek7272%2Fr_002%25C0%25DA%25B9%25D9%25B8%25AE.JPG&type=a340', 'https://search.pstatic.net/common/?src=http%3A%2F%2Fblogfiles.naver.net%2FMjAxNzA2MjFfNTQg%2FMDAxNDk4MDIyNjE3MzQ1.R994NNEbUYuxlP9rueJBV8mNJIMl4llb_-BZtlSPJiUg.VkUd-h8exSukzC3FtfhrJM6ghvcvov-wasagB7J69QIg.JPEG.kh48912%2FIMG_0391.JPG&type=a340', 'https://search.pstatic.net/common/?src=http%3A%2F%2Fblogfiles.naver.net%2F20151010_162%2Fslds2_1444460918935OgrBV_JPEG%2F%25B0%25A1%25C2%25A5%25B4%25D9%25B1%25DD%25B9%25D9%25B8%25AE2.jpg&type=a340', 'https://search.pstatic.net/common/?src=http%3A%2F%2Fblogfiles.naver.net%2FMjAyMDEwMDhfMTc0%2FMDAxNjAyMTQyMjAwNTU0.rdTj09uzZ4-lKbf1l9VcnNeFc5kvlhBFHhPfA8sQG5Qg.8e9y73-qAi5rGCH_RcLsnMKswAWnoj8dlbkV8djBV3Yg.JPEG.armyofking%2FKakaoTalk_20201008_160511335_01.jpg&type=a340', 'https://search.pstatic.net/common/?src=http%3A%2F%2Fblogfiles.naver.net%2FMjAxNzAyMjRfMjIw%2FMDAxNDg3OTAwNDI5Mzg1._HnfxUhAanHlN49Bc91t_h6yfUyUyP0KV9sQIWTKI3sg.iAz89HxGagLc344Y9_chuKLyIcWw6YBybFDaSayH3FQg.JPEG.burning_pineapple%2F20161230_073810.jpg&type=l340_165', 'https://search.pstatic.net/common/?src=http%3A%2F%2Fimage.nmv.naver.net%2Fblog_2021_12_13_171%2Fb617acaf-5b62-11ec-a3dc-246e963a464c_01.jpg&type=ofullfill340_600', 'https://search.pstatic.net/common/?src=http%3A%2F%2Fcafefiles.naver.net%2F20100715_120%2Feoeoqkr1_1279138384282cIhR5_jpg%2Fimg_0013_eoeoqkr1.jpg&type=a340', 'https://search.pstatic.net/common/?src=http%3A%2F%2Fblogfiles.naver.net%2F20120726_218%2F3jm3sk5w_1343282884619k3Ugw_JPEG%2Fnaver_com_20120726_150754.jpg&type=a340', 'https://search.pstatic.net/common/?src=http%3A%2F%2Fblogfiles.naver.net%2FMjAyMTAxMjVfMTgy%2FMDAxNjExNTQzMzMzNjY3.dFZp-3o2mwbuyi0srIpFZIM1Xl-ahDIdVHlG5PCt6a0g.wxjOnCkM8UjJSskTkDEyR2h4Rrp0BD5klo1_eekS3J0g.JPEG.koogoangsung%2F20210121_192100%25280%2529.jpg&type=a340', 'https://search.pstatic.net/common/?src=http%3A%2F%2Fblogfiles.naver.net%2FMjAyMDA4MTJfMTQx%2FMDAxNTk3MjIxOTM0NDAw.6besRjuzOp_Ba3wyShqDfD0_a5bUdDH3tr_7B9G543cg.1tdiwPQlj7Y7t8fVj-9wRjefGxeklFQSijj7WyuXMCIg.JPEG.syujin27%2FIMG_0083.jpg&type=a340', 'https://search.pstatic.net/common/?src=http%3A%2F%2Fblogfiles.naver.net%2FMjAxOTEwMDFfOCAg%2FMDAxNTY5OTAxNTYwMzc3.kHz5rRg3xLsfB5eB5XYH_6IP3_SHgaI_0JopmZb2DI0g.SWoZa7nJoaMbddBNxEeP2S63E-qDRMEN5r2Xw-t9fSAg.JPEG.daplego%2F1569901555893.jpeg&type=a340', 'https://search.pstatic.net/common/?src=http%3A%2F%2Fcafefiles.naver.net%2F20141206_264%2Fkingiepark_1417810860369rlh42_JPEG%2Fzzzzzzyrrturu.JPG&type=ofullfill340_600', 'https://search.pstatic.net/common/?src=http%3A%2F%2Fcafefiles.naver.net%2F20150519_6%2Fjsj9364_1432010120249urBxr_JPEG%2F1432010031776.jpeg&type=ofullfill340_600', 'https://search.pstatic.net/common/?src=http%3A%2F%2Fblogfiles.naver.net%2FMjAxNzEyMDFfNDYg%2FMDAxNTEyMTMzMDE2ODk4.RtnrIPOvZv0LI4tF4FhahER4bxP6KQ-v4EJnAWO4BEQg.FReis2KMVYlbuDbzeVJ-TfXP6zNJ02rBUpNp_1Jg3HYg.JPEG.orgsharp%2F20171127_101612.jpg&type=a340', 'https://search.pstatic.net/common/?src=http%3A%2F%2Fblogfiles.naver.net%2F20151103_74%2Fwkthdo_144653464823654TaS_JPEG%2FDSC03025.JPG&type=l340_165', 'https://search.pstatic.net/common/?src=http%3A%2F%2Fcafefiles.naver.net%2FMjAxODAxMDNfMTIg%2FMDAxNTE0OTM5ODE2MTk1.6uI_SGjLvZbW5aEf9inwHJcnn7aVA4vClku1xOiA3UAg.iHxqJm50c8rFKHgcFABAJkvASkD71IMNhXRz2JVfeEQg.JPEG.annienyu%2FexternalFile.jpg&type=a340', 'https://search.pstatic.net/common/?src=http%3A%2F%2Fcafefiles.naver.net%2FMjAxOTAzMTRfODIg%2FMDAxNTUyNTM4ODc5OTkx.LfCv2IkzJhreV06g5Ku37M2hkx8q_ZY5bv85s8G9Nysg.4lmp4fmOdjQOhvBigwquZO0ZYm6tbLYZNb-fT1UeJhMg.JPEG.snap38%2FexternalFile.jpg&type=ofullfill340_600', 'https://search.pstatic.net/common/?src=http%3A%2F%2Fblogfiles.naver.net%2FMjAxOTAzMTBfMzQg%2FMDAxNTUyMTU1MzE5NzUw.w-6Rh64Px98FPOIV39JtAddoo7zxawt6Sr_P4ahVXOIg.hUYX-IzbA4BuBTY3pcpyAVjFvp3SnXXKMQ0-eacm2yIg.JPEG.daplego%2F23333909_1946380662349791_5586084414374424861_o.jpg&type=ofullfill340_600', 'https://search.pstatic.net/common/?src=http%3A%2F%2Fblogfiles.naver.net%2FMjAxODA0MjVfNDYg%2FMDAxNTI0NjIxMDMzMTcw.EAglW9pIPOJmoptp_HPb7td5uAjpHeefULM5GpdhesYg.orozHsRt4dIQmpzjxVeeNrPgMtoVe9nAGfKK5T0PyUQg.JPEG.skadydrnjs1%2F20171224_175826.jpg&type=a340', 'https://search.pstatic.net/common/?src=http%3A%2F%2Fblogfiles.naver.net%2FMjAxODEyMTBfMjQ1%2FMDAxNTQ0NDQxOTQ4NTc0.0ETa6VQQgg3i_jr6fgsSloZ9lyDXNddHGiDlHNiBRsYg.Cd1KeZ3tVXr4iUdTmMhXgTH3d3V65Ue262Ue6-ypIsAg.JPEG.503house%2F%25B4%25D9%25C0%25CC%25BE%25EE%25C6%25AE%25BF%25A1_%25C1%25C1%25C0%25BA_%25C8%25F2%25BB%25EC%25BB%25FD%25BC%25B1_%25C1%25BE%25B7%25F99.jpg&type=a340', 'https://search.pstatic.net/common/?src=http%3A%2F%2Fblogfiles.naver.net%2FMjAxODExMjlfODcg%2FMDAxNTQzNDc1NjY1MTc0.ux7w7nPB3yqD0qhZwE_1Intsr6FMVLi4wkAx1YicW-sg.rghc0anzsqWbt_QlI1wit617Qiah9iNdtTE8cOAcv1Ig.JPEG.calmnight%2F20181031_225123.jpg&type=a340', 'https://search.pstatic.net/common/?src=http%3A%2F%2Fblogfiles.naver.net%2FMjAxNjEyMjVfNzAg%2FMDAxNDgyNjc0NTY1NjE2.bZV8o6corR2VNdDlfcZjCj1qCMAMoSiK7OGJEK8Vinsg.9RDF9qoWyRiggHBxukVWvt5Q_LoEStDeakzx0_RXe4cg.JPEG.kim1931%2FIMG_4783.JPG&type=a340', 'https://search.pstatic.net/common/?src=http%3A%2F%2Fcafefiles.naver.net%2FMjAxOTAyMTNfOTkg%2FMDAxNTUwMDUyMDYyMTM0.T_mQIo4HdK5Pjyk9cR_LSnxSDfijaI0uCum3ByKZUhkg.JOqk2oBGfFz6QvktRow_yFPqeYNnvjpy9u0NGKvesjgg.JPEG.ppis1226%2FexternalFile.jpg&type=ofullfill340_600', 'https://search.pstatic.net/common/?src=http%3A%2F%2Fcafefiles.naver.net%2F20130722_137%2Fjustksh_1374461682517YJ6nl_JPEG%2F20130720_072814.jpg&type=a340', 'https://search.pstatic.net/common/?src=http%3A%2F%2Fblogfiles.naver.net%2FMjAxOTA4MTBfODkg%2FMDAxNTY1NDM5MDM2Nzgz.iT2KdE3etgP_zxAUlzE4kMhSrQBgYN9X-r67gjR-7a8g.inTmU-bAqdDNy1KZp3MKrKwL92JxcQTwUFGqllx_F0Ug.JPEG.gy57927%2Foutput_442998296.jpg&type=a340', 'https://search.pstatic.net/common/?src=http%3A%2F%2Fblogfiles.naver.net%2FMjAyMDExMjNfNTcg%2FMDAxNjA2MTA2MTU4MDMx.GqGAzsQwOYy-fI3eud_bSc-BsHA1TBYUD-j28g2UB70g.SVGaF0iZphNmk92Hr2NbK_2oyE2HsdoPlTRJ19DpTDMg.JPEG.skimdins%2F3.JPG&type=a340', 'https://search.pstatic.net/common/?src=http%3A%2F%2Fblogfiles.naver.net%2FMjAyMTEwMTRfMjQw%2FMDAxNjM0MTg0MjIzNzQy.Bcc1kotlLFNXM3seXlYnqJzkiZP5406EvkDKkC2dtVAg.DnGk7XmA3uQsiQCmDB9lXWpfmlCfigfQ9qc34STzrmUg.JPEG.sose1616%2F20211013%25A3%25DF183708.jpg&type=a340', 'https://search.pstatic.net/common/?src=http%3A%2F%2Fblogfiles.naver.net%2F20131024_83%2Fbasecamp45_1382580401414b60AG_JPEG%2FDSC04317.JPG&type=a340', 'https://search.pstatic.net/common/?src=http%3A%2F%2Fblogfiles.naver.net%2FMjAxODEyMDRfMTE3%2FMDAxNTQzODkyMjg3MzA3.BjWB3pd2nJJLYO3yMJ9QYOkuOT-2u_HHr7_9JByLrugg.r-PLDpPfwoYNHJq0GJ-X-E-fHHuQTnTzc8Dzydjt-tQg.JPEG.armyofking%2FKakaoTalk_20181204_114837439.jpg&type=a340', 'https://search.pstatic.net/common/?src=http%3A%2F%2Fblogfiles.naver.net%2FMjAyMDA1MDJfMjY0%2FMDAxNTg4MzkxNjQxMTYz.-beTTwEZAmGDznaw3w0R3e2RgQ3bDPQhlCfgD_d8T5gg.gvMkwSCOQOMqPZmcgAAu3Xn0bwaB5RNfoOs3juw3fEIg.JPEG.llshyll%2F20190810_113544.jpg&type=a340', 'https://search.pstatic.net/common/?src=http%3A%2F%2Fblogfiles.naver.net%2F20150205_284%2Fsonji76_1423137793486KQ5IR_JPEG%2FDSC00847.JPG&type=a340', 'https://search.pstatic.net/common/?src=http%3A%2F%2Fblogfiles.naver.net%2FMjAxODExMTJfMTAx%2FMDAxNTQxOTgyNTA2MzAw.ehb2iO7K_mH8tJGCtKlRvg5qzHduLdcesk9WWLbNJS0g.ZAXQvZ_mAlsJNZZQaaLruUIJfzTrT0StQytMpDzTmMsg.JPEG.2731023%2F406.jpg&type=a340', 'https://search.pstatic.net/common/?src=http%3A%2F%2Fblogfiles.naver.net%2FMjAyMDA1MTRfMTIx%2FMDAxNTg5NDY4MDg1MTE4.fNFNIL0Hyf9UUD_j0bS574IuuYtn2qeu6CocKjN2wkIg.DjCTTlxihWfzHKGGZOhgEoQHriT5XKvUQiNGI3uTL3kg.JPEG.moonjung2114%2FIMG_5256.JPG&type=a340']\n",
      "Colloections complete!\n"
     ]
    }
   ],
   "source": [
    "# 2. 이미지 링크 수집\n",
    "imgs = driver.find_elements_by_css_selector('img._image')\n",
    "result = []\n",
    "for img in imgs:\n",
    "    if 'http' in img.get_attribute('src'):\n",
    "        result.append(img.get_attribute('src'))\n",
    "print(result)\n",
    "\n",
    "driver.close()\n",
    "print('Colloections complete!')"
   ]
  },
  {
   "cell_type": "code",
   "execution_count": 7,
   "id": "7f458405-deb3-4584-bb41-a2056a327963",
   "metadata": {},
   "outputs": [
    {
     "name": "stdout",
     "output_type": "stream",
     "text": [
      "Create new directory!\n"
     ]
    }
   ],
   "source": [
    "# 3. 폴더생성\n",
    "import os\n",
    "if not os.path.isdir('./{}'.format(keyword)):\n",
    "    os.mkdir('./{}'.format(keyword))\n",
    "    print('Create new directory!')\n",
    "else :\n",
    "    print('Image updates!')"
   ]
  },
  {
   "cell_type": "code",
   "execution_count": 10,
   "id": "65e94391-7f48-4a2b-9b2c-ba1de2b23342",
   "metadata": {},
   "outputs": [
    {
     "name": "stderr",
     "output_type": "stream",
     "text": [
      "0it [00:00, ?it/s]"
     ]
    },
    {
     "name": "stdout",
     "output_type": "stream",
     "text": [
      "Download complete!\n"
     ]
    },
    {
     "name": "stderr",
     "output_type": "stream",
     "text": [
      "\n"
     ]
    }
   ],
   "source": [
    "#4. 이미지 순서대로 다운로드\n",
    "from urllib.request import urlretrieve\n",
    "for index, link in tqdm(enumerate(result)):\n",
    "    start = link.rfind('.')\n",
    "    end = link.rfind('&')\n",
    "    #print(link[start:end])\n",
    "    filetype = link[start:end] #.png\n",
    "    urlretrieve(link, './{}/{}{}{}'.format(keyword,keyword,index,filetype))\n",
    "print('Download complete!')"
   ]
  }
 ],
 "metadata": {
  "kernelspec": {
   "display_name": "Python 3 (ipykernel)",
   "language": "python",
   "name": "python3"
  },
  "language_info": {
   "codemirror_mode": {
    "name": "ipython",
    "version": 3
   },
   "file_extension": ".py",
   "mimetype": "text/x-python",
   "name": "python",
   "nbconvert_exporter": "python",
   "pygments_lexer": "ipython3",
   "version": "3.8.8"
  }
 },
 "nbformat": 4,
 "nbformat_minor": 5
}
